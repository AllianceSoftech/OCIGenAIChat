{
 "cells": [
  {
   "cell_type": "markdown",
   "id": "9e3a8796-edc8-43f2-94ad-fe4fb20d70ed",
   "metadata": {},
   "source": [
    "# Lab 5. Accessing OCI Gen AI Service with Python SDK.\n",
    "\n",
    "Oracle Cloud Infrastructure (OCI) Generative AI is a fully managed service that provides a set of state-of-the-art, customizable large language models (LLMs) that cover a wide range of use cases, and which is available through a single API.\n",
    "Using the OCI Generative AI service you can access ready-to-use pretrained models, or create and host your own fine-tuned custom models based on your own data on dedicated AI clusters. Detailed documentation of the service and API is available __[here](https://docs.oracle.com/en-us/iaas/Content/generative-ai/home.htm)__ and __[here](https://docs.oracle.com/en-us/iaas/api/#/en/generative-ai/20231130/)__.\n",
    "\n",
    "In this lab, we shall explore how to use OCI's Genrative AI models."
   ]
  },
  {
   "cell_type": "markdown",
   "id": "3802e8c4",
   "metadata": {},
   "source": [
    "## Setup\n",
    "- The first step is to import OS and oci libraries and set the Endpoint and Model IDs.\n",
    "- Ensure that you have **oci cli** configured prior to this lab."
   ]
  },
  {
   "cell_type": "markdown",
   "id": "0ca34855-304e-4b3e-8890-fc17a5790533",
   "metadata": {
    "tags": []
   },
   "source": [
    "# Important : Before Executing this Lab Configure OCI CLI. "
   ]
  },
  {
   "cell_type": "markdown",
   "id": "fe3ffe44-c889-4c08-a91a-3d7b41896b75",
   "metadata": {},
   "source": [
    "Steps :\n",
    "- Tenancy OCID : ocid1.tenancy.oc1..aaaaaaaafzvkfj24vlsyzt7gvue6a6owepu5ghd5bvywtfopf2fnratinxvq\n",
    "- Region : us-ashburn-1\n",
    "1.\tLaunch the terminal  in your Data Science Notebook.\n",
    "2.\tRun the Configuration with command:\n",
    "`# oci setup config`\n",
    "3.\tPress Enter when prompted for directory name to accept the default. \n",
    "Enter a location for your config [~/.oci/config]:\n",
    "You will be prompted to enter user OCID and tenancy OCID (ocid1.tenancy.oc1..aaaaaaaafzvkfj24vlsyzt7gvue6a6owepu5ghd5bvywtfopf2fnratinxvq).\n",
    "4.\tLogin to Oracle Cloud infrastructure at https://cloud.oracle.com. Click user icon and click User Settings. \n",
    "5.\tIn User settings click Copy next to OCID for your user name\n",
    "6.\tSwitch to the terminal session and paste the user OCID using mouse/touch pad and press Enter. You will be prompted to Enter Tenancy OCID\n",
    "7.\tSwitch to OCI Console window, Click user icon and click your Tenancy name, copy the OCID. Also note down your region (for me “us-ashburn-1”)\n",
    "8.\tSwitch to the SSH terminal window and paste the tenancy OCID using mouse/touch pad and press Enter. You will be prompted to enter your region.\n",
    "9.\tType your region and press Enter. Enter Y for ‘New RSA key pair’. Press Enter and accept default options for directories. Press Enter when prompted for passphrase.\n",
    "10.\tTry these commands and Verify the API key files and OCI CLI config files exist\n",
    "`# cat ~/.oci/config`\n",
    "\n",
    "11. Copy the contents of ~/.oci/oci_api_key_public.pem  to **User (Top Right Corner of OCI Web Console) -> My Profile - > API Keys - > Paste Public Key**\n"
   ]
  },
  {
   "cell_type": "markdown",
   "id": "c2921307",
   "metadata": {},
   "source": [
    "You will also need to install the OCI sdk"
   ]
  },
  {
   "cell_type": "code",
   "execution_count": null,
   "id": "bb0dd8c9",
   "metadata": {
    "tags": []
   },
   "outputs": [],
   "source": [
    "!pip install oci oci-cli -qU"
   ]
  },
  {
   "cell_type": "code",
   "execution_count": null,
   "id": "b08c0f0c-f26c-455c-ad3e-d2e9a60e49b4",
   "metadata": {
    "tags": []
   },
   "outputs": [],
   "source": [
    "import oci\n",
    "\n",
    "# Please update config profile name and use the compartment that has policies grant permissions for using Generative AI Service\n",
    "compartment_id = \"ocid1.compartment.oc1..aaaaaaaah2ho2v6m7slojkzc5fcb7fo33kvct7gn2pqlwugjxwmiov5mnf4a\"\n",
    "CONFIG_PROFILE = \"DEFAULT\"\n",
    "config = oci.config.from_file('~/.oci/config', CONFIG_PROFILE)\n",
    "\n",
    "# Service endpoint\n",
    "endpoint = \"https://inference.generativeai.us-chicago-1.oci.oraclecloud.com\"\n",
    "\n",
    "# Model OCID\n",
    "model_id = \"ocid1.generativeaimodel.oc1.us-chicago-1.amaaaaaask7dceyawk6mgunzodenakhkuwxanvt6wo3jcpf72ln52dymk4wq\"\n",
    "\n",
    "# Generative AI Service Client\n",
    "generative_client = oci.generative_ai_inference.GenerativeAiInferenceClient(config=config, service_endpoint=endpoint, retry_strategy=oci.retry.NoneRetryStrategy(), timeout=(10,240))"
   ]
  },
  {
   "cell_type": "markdown",
   "id": "6bb1641c-2b7a-468f-9be0-90d48c396efb",
   "metadata": {},
   "source": [
    "#### Helper function\n",
    "We will use OCI GenAI's `cohere.command-r-16k` model. \n",
    "\n",
    "Create a helper function that will make it easier to use prompts and look at the generated outputs.  "
   ]
  },
  {
   "cell_type": "code",
   "execution_count": null,
   "id": "8b95bec3-405c-4b51-8dd5-5ed76d226f39",
   "metadata": {
    "tags": []
   },
   "outputs": [],
   "source": [
    "def get_completion(prompt):\n",
    "  cd = oci.generative_ai_inference.models.ChatDetails()\n",
    "\n",
    "  cr = oci.generative_ai_inference.models.CohereChatRequest()\n",
    "  cr.message = prompt\n",
    "  cr.max_tokens = 600\n",
    "  cr.temperature = 0\n",
    "  cr.frequency_penalty = 1\n",
    "  cr.top_p = 0.75\n",
    "  cr.top_k = 0\n",
    "\n",
    "  cd.serving_mode = oci.generative_ai_inference.models.OnDemandServingMode(model_id=model_id)\n",
    "  cd.chat_request = cr\n",
    "  cd.compartment_id = compartment_id\n",
    "  cr = generative_client.chat(cd)\n",
    "\n",
    "  return (cr.data.chat_response.text)"
   ]
  },
  {
   "cell_type": "markdown",
   "id": "01fa100d-caac-4989-82e5-2726698ff4eb",
   "metadata": {},
   "source": [
    "# Create a Prompt and Make an API Call\n",
    "### Use delimiters to clearly indicate distinct parts of the input\n",
    "- Delimiters can be anything like: ```, \"\"\", < >, `<tag> </tag>`, `:`"
   ]
  },
  {
   "cell_type": "code",
   "execution_count": null,
   "id": "b8c85900-b950-4ce6-9501-9325ca5367f7",
   "metadata": {
    "tags": []
   },
   "outputs": [],
   "source": [
    "text = f\"\"\"\n",
    "You should express what you want a model to do by providing instructions that are as clear and \\\n",
    "specific as you can possibly make them. This will guide the model towards the desired output, \\\n",
    "and reduce the chances of receiving irrelevant or incorrect responses. Don't confuse writing a \\\n",
    "clear prompt with writing a short prompt. In many cases, longer prompts provide more clarity \\\n",
    "and context for the model, which can lead to more detailed and relevant outputs.\n",
    "\"\"\"\n",
    "prompt = f\"\"\"\n",
    "Summarize the text delimited by triple backticks into a single sentence.\n",
    "```{text}```\n",
    "\"\"\"\n",
    "response = get_completion(prompt)\n",
    "print(response)"
   ]
  },
  {
   "cell_type": "markdown",
   "id": "0d5c8e9f-05f0-41d3-b013-587222e55918",
   "metadata": {},
   "source": [
    "## Explore All Examples from Lab 2 and verify the output."
   ]
  },
  {
   "cell_type": "markdown",
   "id": "906e0fec",
   "metadata": {},
   "source": [
    "## Sequence 1. Summarizing Text\n",
    "#### a. Text to summarize"
   ]
  },
  {
   "cell_type": "code",
   "execution_count": null,
   "id": "3a402a7f-9c98-4ed5-b941-d2bfd656effb",
   "metadata": {
    "tags": []
   },
   "outputs": [],
   "source": [
    "prod_review = \"\"\"\n",
    "Got this panda plush toy for my daughter's birthday, who loves it and takes it everywhere. It's soft and \\ \n",
    "super cute, and its face has a friendly look. It's a bit small for what I paid though. I think there \\ \n",
    "might be other options that are bigger for the same price. It arrived a day earlier than expected, \\ \n",
    "so I got to play with it myself before I gave it to her.\n",
    "\"\"\""
   ]
  },
  {
   "cell_type": "markdown",
   "id": "325ac4a8-0246-46fb-a14a-b6ec4cfa6fad",
   "metadata": {},
   "source": [
    "### b. Summarize with a word/sentence/character limit"
   ]
  },
  {
   "cell_type": "code",
   "execution_count": null,
   "id": "c7b4442a-fd7f-4099-9f39-1f9ed6ce8302",
   "metadata": {
    "tags": []
   },
   "outputs": [],
   "source": [
    "prompt = f\"\"\"\n",
    "Your task is to generate a short summary of a product review from an ecommerce site. \n",
    "\n",
    "Summarize the review below, delimited by triple backticks, in at most 30 words. \n",
    "\n",
    "Review: ```{prod_review}```\n",
    "\"\"\"\n",
    "\n",
    "response = get_completion(prompt)\n",
    "print(response)\n"
   ]
  },
  {
   "cell_type": "markdown",
   "id": "cfc08e39-a1d2-4aed-9d9c-295e506c6e9a",
   "metadata": {},
   "source": [
    "### c. Summarize with a focus on shipping and delivery"
   ]
  },
  {
   "cell_type": "code",
   "execution_count": null,
   "id": "0167579c-25c6-4f38-a0fa-b88edd1ecc97",
   "metadata": {
    "tags": []
   },
   "outputs": [],
   "source": [
    "prompt = f\"\"\"\n",
    "Your task is to generate a short summary of a product review from an ecommerce site to give feedback to the \\\n",
    "Shipping deparmtment. \n",
    "\n",
    "Summarize the review below, delimited by triple backticks, in at most 30 words, and focusing on any aspects \\\n",
    "that mention shipping and delivery of the product. \n",
    "\n",
    "Review: ```{prod_review}```\n",
    "\"\"\"\n",
    "\n",
    "response = get_completion(prompt)\n",
    "print(response)\n"
   ]
  },
  {
   "cell_type": "markdown",
   "id": "7f90bd52-a8d1-4bd6-a28f-4b9409a014a1",
   "metadata": {},
   "source": [
    "### d. Summarize with a focus on price and value"
   ]
  },
  {
   "cell_type": "code",
   "execution_count": null,
   "id": "07d072f9-bec4-47dc-b967-2de8dbb89342",
   "metadata": {
    "tags": []
   },
   "outputs": [],
   "source": [
    "prompt = f\"\"\"\n",
    "Your task is to generate a short summary of a product review from an ecommerce site to give feedback to the \\\n",
    "pricing deparmtment, responsible for determining the price of the product.  \n",
    "\n",
    "Summarize the review below, delimited by triple \n",
    "backticks, in at most 30 words, and focusing on any aspects that are relevant to the price and perceived value. \n",
    "\n",
    "Review: ```{prod_review}```\n",
    "\"\"\"\n",
    "\n",
    "response = get_completion(prompt)\n",
    "print(response)"
   ]
  },
  {
   "cell_type": "markdown",
   "id": "5d62bebe-ce16-4481-b469-915c792f8c7d",
   "metadata": {},
   "source": [
    "#### Summaries include topics that are not related to the topic of focus.\n",
    "### e. Try \"extract\" instead of \"summarize\""
   ]
  },
  {
   "cell_type": "code",
   "execution_count": null,
   "id": "6d2e8313-bac4-45f5-9514-8a79ba23e74d",
   "metadata": {
    "tags": []
   },
   "outputs": [],
   "source": [
    "prompt = f\"\"\"\n",
    "Your task is to extract relevant information from a product review from an ecommerce site to give \\\n",
    "feedback to the Shipping department. \n",
    "\n",
    "From the review below, delimited by triple quotes extract the information relevant to shipping and \\ \n",
    "delivery. Limit to 30 words. \n",
    "\n",
    "Review: ```{prod_review}```\n",
    "\"\"\"\n",
    "\n",
    "response = get_completion(prompt)\n",
    "print(response)"
   ]
  },
  {
   "cell_type": "markdown",
   "id": "70f914ac-0bda-4589-8240-53e3201e2dc1",
   "metadata": {},
   "source": [
    "### f. Summarize multiple product reviews"
   ]
  },
  {
   "cell_type": "code",
   "execution_count": null,
   "id": "06c15577-176a-4e47-bb18-0401ea906a07",
   "metadata": {
    "tags": []
   },
   "outputs": [],
   "source": [
    "review_1 = prod_review \n",
    "\n",
    "# review for a standing lamp\n",
    "review_2 = \"\"\"\n",
    "Needed a nice lamp for my bedroom, and this one had additional storage and not too high of a price \\\n",
    "point. Got it fast - arrived in 2 days. The string to the lamp broke during the transit and the company \\\n",
    "happily sent over a new one. Came within a few days as well. It was easy to put together. Then I had a \\\n",
    "missing part, so I contacted their support and they very quickly got me the missing piece! Seems to me \\\n",
    "to be a great company that cares about their customers and products. \n",
    "\"\"\"\n",
    "\n",
    "# review for an electric toothbrush\n",
    "review_3 = \"\"\"\n",
    "My dental hygienist recommended an electric toothbrush, which is why I got this. The battery life seems to be \\\n",
    "pretty impressive so far. After initial charging and leaving the charger plugged in for the first week to \\\n",
    "condition the battery, I've unplugged the charger and been using it for twice daily brushing for the last \\\n",
    "3 weeks all on the same charge. But the toothbrush head is too small. I’ve seen baby toothbrushes bigger than \\\n",
    "this one. I wish the head was bigger with different length bristles to get between teeth better because \\\n",
    "this one doesn’t.  Overall if you can get this one around the $50 mark, it's a good deal. The manufactuer's \\\n",
    "replacements heads are pretty expensive, but you can get generic ones that're more reasonably priced. This \\\n",
    "toothbrush makes me feel like I've been to the dentist every day. My teeth feel sparkly clean! \n",
    "\"\"\"\n",
    "\n",
    "# review for a blender\n",
    "review_4 = \"\"\"\n",
    "So, they still had the 17 piece system on seasonal sale for around $49 in the month of November, about \\\n",
    "half off, but for some reason (call it price gouging) around the second week of December the prices all went \\\n",
    "up to about anywhere from between $70-$89 for the same system. And the 11 piece system went up around $10 or \\\n",
    "so in price also from the earlier sale price of $29. So it looks okay, but if you look at the base, the part \\\n",
    "where the blade locks into place doesn’t look as good as in previous editions from a few years ago, but I \\\n",
    "plan to be very gentle with it (example, I crush very hard items like beans, ice, rice, etc. in the \\ \n",
    "blender first then pulverize them in the serving size I want in the blender then switch to the whipping \\\n",
    "blade for a finer flour, and use the cross cutting blade first when making smoothies, then use the flat blade \\\n",
    "if I need them finer/less pulpy). Special tip when making smoothies, finely cut and freeze the fruits and \\\n",
    "vegetables (if using spinach-lightly stew soften the spinach then freeze until ready for use-and if making \\\n",
    "sorbet, use a small to medium sized food processor) that you plan to use that way you can avoid adding so \\\n",
    "much ice if at all-when making your smoothie. After about a year, the motor was making a funny noise. \\\n",
    "I called customer service but the warranty expired already, so I had to buy another one. FYI: The overall \\\n",
    "quality has gone done in these types of products, so they are kind of counting on brand recognition and \\\n",
    "consumer loyalty to maintain sales. Got it in about two days.\n",
    "\"\"\"\n",
    "\n",
    "reviews = [review_1, review_2, review_3, review_4]"
   ]
  },
  {
   "cell_type": "code",
   "execution_count": null,
   "id": "faa9ab68-5d8b-4413-b398-70cdd287001c",
   "metadata": {
    "tags": []
   },
   "outputs": [],
   "source": [
    "for i in range(len(reviews)):\n",
    "    prompt = f\"\"\"\n",
    "    Your task is to generate a short summary of a product review from an ecommerce site. \n",
    "\n",
    "    Summarize the review below, delimited by triple backticks in at most 20 words. \n",
    "\n",
    "    Review: ```{reviews[i]}```\n",
    "    \"\"\"\n",
    "\n",
    "    response = get_completion(prompt)\n",
    "    print(i, response, \"\\n\")\n"
   ]
  },
  {
   "cell_type": "markdown",
   "id": "611882d4-e353-41b1-854a-67efd1aca8b0",
   "metadata": {},
   "source": [
    "## Sequence 2. Inferring with Cohere `cohere.command-r-16k` Model\n",
    "Infer sentiment and topics from product reviews and news articles.\n",
    "\n",
    "### a. Define the Review"
   ]
  },
  {
   "cell_type": "code",
   "execution_count": null,
   "id": "6aba81a7-9eac-49f3-ab3d-b319258a1ff1",
   "metadata": {
    "tags": []
   },
   "outputs": [],
   "source": [
    "lamp_review = \"\"\"\n",
    "Needed a nice lamp for my bedroom, and this one had additional storage and not too high of a price point. \\\n",
    "Got it fast.  The string to our lamp broke during the transit and the company happily sent over a new one. \\\n",
    "Came within a few days as well. It was easy to put together.  I had a missing part, so I contacted their \\\n",
    "support and they very quickly got me the missing piece! Lumina seems to me to be a great company that cares \\\n",
    "about their customers and products!!\n",
    "\"\"\""
   ]
  },
  {
   "cell_type": "markdown",
   "id": "944dd6cd-ebb7-4b04-b14e-8e3bab8caa91",
   "metadata": {},
   "source": [
    "### b. Sentiment (positive/negative)"
   ]
  },
  {
   "cell_type": "code",
   "execution_count": null,
   "id": "a0460afc-6d36-4741-853d-b601542c418c",
   "metadata": {
    "tags": []
   },
   "outputs": [],
   "source": [
    "prompt = f\"\"\"\n",
    "What is the sentiment of the following product review, \n",
    "which is delimited with triple backticks?\n",
    "\n",
    "Review text: '''{lamp_review}'''\n",
    "\"\"\"\n",
    "response = get_completion(prompt)\n",
    "print(response)"
   ]
  },
  {
   "cell_type": "code",
   "execution_count": null,
   "id": "03f1fe50-8419-4f9e-a963-eb5aeb3df0d4",
   "metadata": {
    "tags": []
   },
   "outputs": [],
   "source": [
    "prompt = f\"\"\"\n",
    "What is the sentiment of the following product review, \n",
    "which is delimited with triple backticks?\n",
    "\n",
    "Give your answer as a single word, either \"positive\" or \"negative\".\n",
    "\n",
    "Review text: '''{lamp_review}'''\n",
    "\"\"\"\n",
    "response = get_completion(prompt)\n",
    "print(response)"
   ]
  },
  {
   "cell_type": "markdown",
   "id": "3e3f8890-5f6c-4dcb-b1bd-9a8ffe537159",
   "metadata": {},
   "source": [
    "### c. Identify types of emotions"
   ]
  },
  {
   "cell_type": "code",
   "execution_count": null,
   "id": "2940de7c-f78c-4ade-aeb4-3ac55d997134",
   "metadata": {
    "tags": []
   },
   "outputs": [],
   "source": [
    "prompt = f\"\"\"\n",
    "Identify a list of emotions that the writer of the following review is expressing. Include no more than \\\n",
    "five items in the list. Format your answer as a list of lower-case words separated by commas.\n",
    "\n",
    "Review text: '''{lamp_review}'''\n",
    "\"\"\"\n",
    "response = get_completion(prompt)\n",
    "print(response)"
   ]
  },
  {
   "cell_type": "markdown",
   "id": "37c8ea48-10a1-4fc7-a969-9852d1d9c4c6",
   "metadata": {},
   "source": [
    "### d. Identify anger"
   ]
  },
  {
   "cell_type": "code",
   "execution_count": null,
   "id": "95c2500e-299f-4942-8938-46e6cd9f58ff",
   "metadata": {
    "tags": []
   },
   "outputs": [],
   "source": [
    "prompt = f\"\"\"\n",
    "Is the writer of the following review expressing anger? The review is delimited with triple backticks. \\\n",
    "Give your answer as either yes or no.\n",
    "\n",
    "Review text: '''{lamp_review}'''\n",
    "\"\"\"\n",
    "response = get_completion(prompt)\n",
    "print(response)"
   ]
  },
  {
   "cell_type": "markdown",
   "id": "f69a57f3-2994-4d1e-b020-94d9a5bdc7d2",
   "metadata": {},
   "source": [
    "### e. Extract product and company name from customer reviews"
   ]
  },
  {
   "cell_type": "code",
   "execution_count": null,
   "id": "9095355c-efec-44ed-a392-7a9bee1352ff",
   "metadata": {
    "tags": []
   },
   "outputs": [],
   "source": [
    "prompt = f\"\"\"\n",
    "Identify the following items from the review text: \n",
    "- Item purchased by reviewer\n",
    "- Company that made the item\n",
    "\n",
    "The review is delimited with triple backticks. Format your response as a JSON object with \\\n",
    "\"Item\" and \"Brand\" as the keys. \n",
    "If the information isn't present, use \"unknown\" as the value.\n",
    "Make your response as short as possible.\n",
    "  \n",
    "Review text: '''{lamp_review}'''\n",
    "\"\"\"\n",
    "response = get_completion(prompt)\n",
    "print(response)"
   ]
  },
  {
   "cell_type": "markdown",
   "id": "724771ca-15b8-43b9-af75-3c5000325949",
   "metadata": {},
   "source": [
    "### f. Doing multiple tasks at once"
   ]
  },
  {
   "cell_type": "code",
   "execution_count": null,
   "id": "3f7f4675-93db-4893-bd90-8772dbe8dd3f",
   "metadata": {
    "tags": []
   },
   "outputs": [],
   "source": [
    "prompt = f\"\"\"\n",
    "Identify the following items from the review text: \n",
    "- Sentiment (positive or negative)\n",
    "- Is the reviewer expressing anger? (true or false)\n",
    "- Item purchased by reviewer\n",
    "- Company that made the item\n",
    "\n",
    "The review is delimited with triple backticks. Format your response as a JSON object with \\\n",
    "\"Sentiment\", \"Anger\", \"Item\" and \"Brand\" as the keys.\n",
    "If the information isn't present, use \"unknown\" as the value.\n",
    "Make your response as short as possible.\n",
    "Format the Anger value as a boolean.\n",
    "\n",
    "Review text: '''{lamp_review}'''\n",
    "\"\"\"\n",
    "response = get_completion(prompt)\n",
    "print(response)"
   ]
  },
  {
   "cell_type": "markdown",
   "id": "dec8a379-ccd0-4287-86b7-1248695640fa",
   "metadata": {},
   "source": [
    "### g. Inferring topics"
   ]
  },
  {
   "cell_type": "code",
   "execution_count": null,
   "id": "a4c8c498-ca62-4870-9499-98fd397df8d8",
   "metadata": {
    "tags": []
   },
   "outputs": [],
   "source": [
    "story = \"\"\"\n",
    "In a recent survey conducted by the government, public sector employees were asked to rate their level \n",
    "of satisfaction with the department they work at. \n",
    "The results revealed that NASA was the most popular department with a satisfaction rating of 95%.\n",
    "\n",
    "One NASA employee, John Smith, commented on the findings, stating, \"I'm not surprised that NASA came out on top. \n",
    "It's a great place to work with amazing people and incredible opportunities. I'm proud to be a part of \n",
    "such an innovative organization.\"\n",
    "\n",
    "The results were also welcomed by NASA's management team, with Director Tom Johnson stating, \"We are thrilled to \n",
    "hear that our employees are satisfied with their work at NASA. \n",
    "We have a talented and dedicated team who work tirelessly to achieve our goals, and it's fantastic to see that their \n",
    "hard work is paying off.\"\n",
    "\n",
    "The survey also revealed that the Social Security Administration had the lowest satisfaction rating, \n",
    "with only 45% of employees indicating they were satisfied with their job. The government has pledged to address\n",
    "the concerns raised by employees in the survey and \n",
    "work towards improving job satisfaction across all departments.\n",
    "\"\"\""
   ]
  },
  {
   "cell_type": "markdown",
   "id": "d082f793-92a3-4388-bc67-0e13a5d3f930",
   "metadata": {},
   "source": [
    "### h. Infer 5 topics"
   ]
  },
  {
   "cell_type": "code",
   "execution_count": null,
   "id": "f0f01e99-a27c-4792-8bbd-53920f7c5a81",
   "metadata": {
    "tags": []
   },
   "outputs": [],
   "source": [
    "prompt = f\"\"\"\n",
    "Determine five topics that are being discussed in the following text, which is delimited by triple backticks.\n",
    "\n",
    "Make each item one or two words long. \n",
    "\n",
    "Format your response as a list of items separated by commas.\n",
    "\n",
    "Text sample: '''{story}'''\n",
    "\"\"\"\n",
    "response = get_completion(prompt)\n",
    "print(response)"
   ]
  },
  {
   "cell_type": "code",
   "execution_count": null,
   "id": "ca586127-10de-4aab-925d-b662b6a08a1e",
   "metadata": {
    "tags": []
   },
   "outputs": [],
   "source": [
    "response.split(sep=',')"
   ]
  },
  {
   "cell_type": "code",
   "execution_count": null,
   "id": "f6aedb1c-c0be-4edf-835d-9b3289ca158a",
   "metadata": {
    "tags": []
   },
   "outputs": [],
   "source": [
    "topic_list = [\n",
    "    \"nasa\", \"local government\", \"engineering\", \n",
    "    \"employee satisfaction\", \"federal government\"\n",
    "]"
   ]
  },
  {
   "cell_type": "markdown",
   "id": "b558fb64-e052-47e5-9666-7e270a2bf348",
   "metadata": {},
   "source": [
    "### i. Make a news alert for certain topics"
   ]
  },
  {
   "cell_type": "code",
   "execution_count": null,
   "id": "5ecb4bd8-d763-411b-9dd0-f52e74d770ec",
   "metadata": {
    "tags": []
   },
   "outputs": [],
   "source": [
    "prompt = f\"\"\"\n",
    "Determine whether each item in the following list of topics is a topic in the text below, which\n",
    "is delimited with triple backticks.\n",
    "\n",
    "Give your answer as list with 0 or 1 for each topic.\\\n",
    "\n",
    "List of topics: {\", \".join(topic_list)}\n",
    "\n",
    "Text sample: '''{story}'''\n",
    "\"\"\"\n",
    "response = get_completion(prompt)\n",
    "print(response)"
   ]
  },
  {
   "cell_type": "markdown",
   "id": "039d4562-c569-4e28-aa39-e0dd8d4331da",
   "metadata": {},
   "source": [
    "## Sequence 3. Generate a marketing product description from a product fact sheet\n"
   ]
  },
  {
   "cell_type": "markdown",
   "id": "9a27a660-bd96-407f-971d-292cb53e5e62",
   "metadata": {},
   "source": [
    "**a. The product fact sheet**"
   ]
  },
  {
   "cell_type": "code",
   "execution_count": null,
   "id": "6ddbfb7b-405f-4e73-b915-a143414f2197",
   "metadata": {
    "tags": []
   },
   "outputs": [],
   "source": [
    "fact_sheet_chair = \"\"\"\n",
    "OVERVIEW\n",
    "- Part of a beautiful family of mid-century inspired office furniture, including filing cabinets, desks, bookcases, meeting tables, and more.\n",
    "- Several options of shell color and base finishes.\n",
    "- Available with plastic back and front upholstery (SWC-100) or full upholstery (SWC-110) in 10 fabric and 6 leather options.\n",
    "- Base finish options are: stainless steel, matte black, gloss white, or chrome.\n",
    "- Chair is available with or without armrests.\n",
    "- Suitable for home or business settings.\n",
    "- Qualified for contract use.\n",
    "\n",
    "CONSTRUCTION\n",
    "- 5-wheel plastic coated aluminum base.\n",
    "- Pneumatic chair adjust for easy raise/lower action.\n",
    "\n",
    "DIMENSIONS\n",
    "- WIDTH 53 CM | 20.87”\n",
    "- DEPTH 51 CM | 20.08”\n",
    "- HEIGHT 80 CM | 31.50”\n",
    "- SEAT HEIGHT 44 CM | 17.32”\n",
    "- SEAT DEPTH 41 CM | 16.14”\n",
    "\n",
    "OPTIONS\n",
    "- Soft or hard-floor caster options.\n",
    "- Two choices of seat foam densities: medium (1.8 lb/ft3) or high (2.8 lb/ft3)\n",
    "- Armless or 8 position PU armrests \n",
    "\n",
    "MATERIALS\n",
    "SHELL BASE GLIDER\n",
    "- Cast Aluminum with modified nylon PA6/PA66 coating.\n",
    "- Shell thickness: 10 mm.\n",
    "SEAT\n",
    "- HD36 foam\n",
    "\n",
    "COUNTRY OF ORIGIN\n",
    "- Italy\n",
    "\"\"\""
   ]
  },
  {
   "cell_type": "code",
   "execution_count": null,
   "id": "d7dd8243-ccf9-43a4-9d3e-65c09d33c1e0",
   "metadata": {
    "tags": []
   },
   "outputs": [],
   "source": [
    "prompt = f\"\"\"\n",
    "Your task is to help a marketing team create a description for a retail website of a product based \n",
    "on a technical fact sheet.\n",
    "\n",
    "Write a product description based on the information provided in the technical specifications delimited by \n",
    "triple backticks.\n",
    "\n",
    "Technical specifications: ```{fact_sheet_chair}```\n",
    "\"\"\"\n",
    "response = get_completion(prompt)\n",
    "print(response)"
   ]
  },
  {
   "cell_type": "code",
   "execution_count": null,
   "id": "ebe74ddc-c97e-4e0a-b049-171c1bc15e84",
   "metadata": {},
   "outputs": [],
   "source": []
  }
 ],
 "metadata": {
  "kernelspec": {
   "display_name": "Python 3 (ipykernel)",
   "language": "python",
   "name": "python3"
  },
  "language_info": {
   "codemirror_mode": {
    "name": "ipython",
    "version": 3
   },
   "file_extension": ".py",
   "mimetype": "text/x-python",
   "name": "python",
   "nbconvert_exporter": "python",
   "pygments_lexer": "ipython3",
   "version": "3.11.7"
  }
 },
 "nbformat": 4,
 "nbformat_minor": 5
}
